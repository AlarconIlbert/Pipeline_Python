{
  "nbformat": 4,
  "nbformat_minor": 0,
  "metadata": {
    "colab": {
      "provenance": []
    },
    "kernelspec": {
      "name": "python3",
      "display_name": "Python 3"
    },
    "language_info": {
      "name": "python"
    }
  },
  "cells": [
    {
      "cell_type": "code",
      "execution_count": 1,
      "metadata": {
        "id": "ftU0j4GhJ5y8"
      },
      "outputs": [],
      "source": [
        "import pandas as pd\n",
        "import sqlite3 as sql"
      ]
    },
    {
      "cell_type": "code",
      "source": [
        "def proceso(archivo,base):\n",
        "  df=pd.read_csv(archivo)\n",
        "\n",
        "  df.rename(columns={'Y':'Year','Estados Unidos':'EEUU'},inplace=True)\n",
        "  df.drop(columns='Nigeria',inplace=True)\n",
        "\n",
        "  conex=sql.connect(\"base\")\n",
        "  cursor=conex.cursor()\n",
        "\n",
        "  cursor.execute(\"\"\"CREATE TABLE IF NOT EXISTS habitantes2\n",
        "   (Year INT, China real, India real, EEUU real, Indonesia real, Pakistan real, Brasil real)\n",
        "   \"\"\")\n",
        "  conex.commit()\n",
        "\n",
        "  df.to_sql('habitantes2', conex, if_exists='replace',index=False)\n",
        "\n",
        "  cursor.execute(\"SELECT India FROM habitantes2 WHERE Year = 2021\")\n",
        "\n",
        "  resultados = cursor.fetchall()\n",
        "  for result in resultados:\n",
        "    print(result)\n",
        "\n",
        "  conex.close()\n",
        "\n",
        "archivo='/content/poblacion.csv'\n",
        "base='poblacion.db'\n",
        "\n",
        "proceso(archivo,base)"
      ],
      "metadata": {
        "colab": {
          "base_uri": "https://localhost:8080/"
        },
        "id": "HEHWMNntKDzt",
        "outputId": "6d4d4b77-2602-43db-9872-051091ecba77"
      },
      "execution_count": 2,
      "outputs": [
        {
          "output_type": "stream",
          "name": "stdout",
          "text": [
            "('1402,81',)\n"
          ]
        }
      ]
    },
    {
      "cell_type": "code",
      "source": [],
      "metadata": {
        "id": "i1-6GjbgLbDC"
      },
      "execution_count": null,
      "outputs": []
    }
  ]
}